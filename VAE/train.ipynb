{
 "cells": [
  {
   "cell_type": "code",
   "execution_count": null,
   "metadata": {},
   "outputs": [],
   "source": [
    "import os\n",
    "import yaml\n",
    "import numpy as np\n",
    "import tensorflow as tf\n",
    "import tensorflow.keras.backend as K\n",
    "from tensorflow.keras.datasets import mnist\n",
    "from tensorflow.keras.utils import to_categorical\n",
    "from tensorflow.data import Dataset\n",
    "from model import VariationalAutoEncoder\n",
    "\n",
    "if not os.path.exists(\"result\"):\n",
    "    os.mkdir(\"result\")\n",
    "\n",
    "config = yaml.safe_load(open('config.yaml', 'r'))\n",
    "params = config['params']\n",
    "encoder_params = config['encoder']\n",
    "decoder_params = config['decoder']"
   ]
  },
  {
   "cell_type": "code",
   "execution_count": null,
   "metadata": {},
   "outputs": [],
   "source": [
    "(x_train, y_train), (x_test, y_test) = mnist.load_data()\n",
    "\n",
    "x_train.astype(np.float64) / 255.\n",
    "x_train = np.expand_dims(x_train, axis=3)\n",
    "x_test.astype(np.float64) / 255.\n",
    "x_test = np.expand_dims(x_test, axis=3)\n",
    "\n",
    "train_dataset = Dataset.from_tensor_slices(x_train)\n",
    "train_dataset = train_dataset.shuffle(1024).batch(params[\"batch_size\"])\n",
    "\n",
    "y_train = to_categorical(y_train, 10)\n",
    "y_test = to_categorical(y_test, 10)"
   ]
  },
  {
   "cell_type": "code",
   "execution_count": null,
   "metadata": {},
   "outputs": [],
   "source": [
    "model = VariationalAutoEncoder(\n",
    "    input_shape=x_train[0].shape, \n",
    "    params=params, \n",
    "    encoder_params=encoder_params, \n",
    "    decoder_params=decoder_params)\n",
    "\n",
    "print(model.encoder.summary())\n",
    "print(model.decoder.summary())"
   ]
  },
  {
   "cell_type": "markdown",
   "metadata": {},
   "source": []
  },
  {
   "cell_type": "code",
   "execution_count": null,
   "metadata": {},
   "outputs": [],
   "source": [
    "model.train(train_dataset)"
   ]
  },
  {
   "cell_type": "code",
   "execution_count": null,
   "metadata": {},
   "outputs": [],
   "source": []
  }
 ],
 "metadata": {
  "kernelspec": {
   "display_name": "Python 3 (ipykernel)",
   "language": "python",
   "name": "python3"
  },
  "language_info": {
   "codemirror_mode": {
    "name": "ipython",
    "version": 3
   },
   "file_extension": ".py",
   "mimetype": "text/x-python",
   "name": "python",
   "nbconvert_exporter": "python",
   "pygments_lexer": "ipython3",
   "version": "3.6.9"
  },
  "vscode": {
   "interpreter": {
    "hash": "af42d6b00596c858df57cfb1e3d56019ad36764fdda4c39cb12fa72d6aaee7c1"
   }
  }
 },
 "nbformat": 4,
 "nbformat_minor": 2
}
